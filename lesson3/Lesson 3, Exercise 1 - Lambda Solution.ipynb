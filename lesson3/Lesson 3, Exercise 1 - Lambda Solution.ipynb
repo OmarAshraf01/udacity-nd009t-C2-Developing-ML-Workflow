{
 "cells": [
  {
   "cell_type": "markdown",
   "id": "9213d171",
   "metadata": {},
   "source": [
    "## Exercise Solution: Example Lambda Test Event"
   ]
  },
  {
   "cell_type": "code",
   "execution_count": 1,
   "id": "9efff689",
   "metadata": {},
   "outputs": [
    {
     "data": {
      "text/plain": [
       "{'s3-dataset-uri': 'udacity-sagemaker-solutiondata2021/l3e1/reviews_Musical_Instruments_5.json.zip'}"
      ]
     },
     "execution_count": 1,
     "metadata": {},
     "output_type": "execute_result"
    }
   ],
   "source": [
    "{\n",
    "  \"s3-dataset-uri\": \"udacity-sagemaker-solutiondata2021/l3e1/reviews_Musical_Instruments_5.json.zip\"\n",
    "}"
   ]
  },
  {
   "cell_type": "markdown",
   "id": "600085e2",
   "metadata": {},
   "source": [
    "## Exercise Solution: Example Lambda Handler"
   ]
  },
  {
   "cell_type": "code",
   "execution_count": 3,
   "id": "010950e0",
   "metadata": {},
   "outputs": [],
   "source": [
    "from HelloBlazePreprocessLambda import preprocess\n",
    "\n",
    "def lambda_handler(event, context):\n",
    "    preprocess(event['s3-dataset-uri'])\n",
    "    return {\n",
    "        'statusCode': 200,\n",
    "        'body': \"Good to go!\"\n",
    "    }"
   ]
  },
  {
   "cell_type": "code",
   "execution_count": 6,
   "id": "6da06b33",
   "metadata": {
    "tags": []
   },
   "outputs": [
    {
     "name": "stdout",
     "output_type": "stream",
     "text": [
      "s3://sagemaker-us-east-1-852197184467/l3e1/code/HelloBlazePreprocessLambda.py.zip\n"
     ]
    }
   ],
   "source": [
    "# Todo\n",
    "import os\n",
    "import boto3\n",
    "s3_bucket = \"sagemaker-us-east-1-852197184467\"\n",
    "s3_prefix = \"l3e1/code\"\n",
    "file_name = \"HelloBlazePreprocessLambda.py.zip\"\n",
    "def cycle_data(fp, data):\n",
    "    for d in data:\n",
    "        fp.write(json.dumps({'source':d}) + '\\n')\n",
    "\n",
    "def upload_file_to_s3(file_name, s3_prefix):\n",
    "    object_name = os.path.join(s3_prefix, file_name)\n",
    "    s3_client = boto3.client('s3')\n",
    "    try:\n",
    "        response = s3_client.upload_file(file_name, s3_bucket, object_name)\n",
    "    except ClientError as e:\n",
    "        logging.error(e)\n",
    "        return False\n",
    "    return\n",
    "\n",
    "upload_file_to_s3(file_name, s3_prefix)\n",
    "\n",
    "processing_job_input_path = \"s3://\" + \"/\".join([s3_bucket, s3_prefix, file_name])\n",
    "\n",
    "print(processing_job_input_path)"
   ]
  },
  {
   "cell_type": "code",
   "execution_count": 5,
   "id": "85df0822-f1b4-4f2f-8dee-3b7f5163cbaf",
   "metadata": {
    "tags": []
   },
   "outputs": [],
   "source": [
    "import zipfile\n",
    "zip_filename = 'HelloBlazePreprocessLambda.py.zip'\n",
    "with zipfile.ZipFile(zip_filename, 'w') as zipf:\n",
    "    zipf.write('HelloBlazePreprocessLambda.py')\n",
    "    zipf.write('lambda_handler.py')\n"
   ]
  },
  {
   "cell_type": "code",
   "execution_count": null,
   "id": "142a3d94-e8d6-4e60-a7ae-0507bdc8bf33",
   "metadata": {},
   "outputs": [],
   "source": []
  }
 ],
 "metadata": {
  "kernelspec": {
   "display_name": "conda_python3",
   "language": "python",
   "name": "conda_python3"
  },
  "language_info": {
   "codemirror_mode": {
    "name": "ipython",
    "version": 3
   },
   "file_extension": ".py",
   "mimetype": "text/x-python",
   "name": "python",
   "nbconvert_exporter": "python",
   "pygments_lexer": "ipython3",
   "version": "3.10.14"
  }
 },
 "nbformat": 4,
 "nbformat_minor": 5
}
