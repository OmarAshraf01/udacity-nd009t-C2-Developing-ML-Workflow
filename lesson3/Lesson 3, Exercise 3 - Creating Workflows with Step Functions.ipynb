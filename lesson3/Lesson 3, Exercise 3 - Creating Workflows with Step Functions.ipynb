{
 "cells": [
  {
   "cell_type": "markdown",
   "id": "c5dc198f",
   "metadata": {},
   "source": [
    "# UDACITY Designing Your First Workflow - Step Functions"
   ]
  },
  {
   "cell_type": "markdown",
   "id": "a00c09c5",
   "metadata": {},
   "source": [
    "## Step Functions & SageMaker"
   ]
  },
  {
   "cell_type": "markdown",
   "id": "2c2a5b51",
   "metadata": {},
   "source": [
    "In the prior exercises, we've been working with many small services. This can be overwhelming for a data scientist that wants to establish a consistent methodology for handling data. Step Functions is an orchestration service that can allow us to utilize SageMaker in a methodical and consistent way. Step Functions also integrates with Lambda, which can allow us to potentially automate our entire machine learning pipeline end-to-end. Let's get a handle on what a 'step' in a step function looks like.\n",
    "\n",
    "In this exercise, you will create a preprocessing step and a training step. Then you will create a step function to chain the two steps."
   ]
  },
  {
   "cell_type": "markdown",
   "id": "3e5c1c6b",
   "metadata": {},
   "source": [
    "## Exercise: Grant Permissions and install packages."
   ]
  },
  {
   "cell_type": "markdown",
   "id": "1d76a91b",
   "metadata": {},
   "source": [
    "Attach the IAMFullAccess and the StepFunctionsFullAccess polices to your SageMaker execution role."
   ]
  },
  {
   "cell_type": "code",
   "execution_count": 1,
   "id": "981094fe",
   "metadata": {
    "tags": []
   },
   "outputs": [
    {
     "name": "stdout",
     "output_type": "stream",
     "text": [
      "Collecting stepfunctions\n",
      "  Downloading stepfunctions-2.3.0.tar.gz (67 kB)\n",
      "\u001b[2K     \u001b[90m━━━━━━━━━━━━━━━━━━━━━━━━━━━━━━━━━━━━━━━━\u001b[0m \u001b[32m67.1/67.1 kB\u001b[0m \u001b[31m10.6 MB/s\u001b[0m eta \u001b[36m0:00:00\u001b[0m\n",
      "\u001b[?25h  Preparing metadata (setup.py): started\n",
      "  Preparing metadata (setup.py): finished with status 'done'\n",
      "Requirement already satisfied: sagemaker>=2.1.0 in /opt/conda/lib/python3.10/site-packages (from stepfunctions) (2.227.0)\n",
      "Requirement already satisfied: boto3>=1.14.38 in /opt/conda/lib/python3.10/site-packages (from stepfunctions) (1.34.131)\n",
      "Requirement already satisfied: pyyaml in /opt/conda/lib/python3.10/site-packages (from stepfunctions) (6.0.1)\n",
      "Requirement already satisfied: botocore<1.35.0,>=1.34.131 in /opt/conda/lib/python3.10/site-packages (from boto3>=1.14.38->stepfunctions) (1.34.131)\n",
      "Requirement already satisfied: jmespath<2.0.0,>=0.7.1 in /opt/conda/lib/python3.10/site-packages (from boto3>=1.14.38->stepfunctions) (1.0.1)\n",
      "Requirement already satisfied: s3transfer<0.11.0,>=0.10.0 in /opt/conda/lib/python3.10/site-packages (from boto3>=1.14.38->stepfunctions) (0.10.2)\n",
      "Requirement already satisfied: attrs<24,>=23.1.0 in /opt/conda/lib/python3.10/site-packages (from sagemaker>=2.1.0->stepfunctions) (23.2.0)\n",
      "Collecting boto3>=1.14.38 (from stepfunctions)\n",
      "  Downloading boto3-1.35.8-py3-none-any.whl.metadata (6.6 kB)\n",
      "Requirement already satisfied: cloudpickle==2.2.1 in /opt/conda/lib/python3.10/site-packages (from sagemaker>=2.1.0->stepfunctions) (2.2.1)\n",
      "Requirement already satisfied: google-pasta in /opt/conda/lib/python3.10/site-packages (from sagemaker>=2.1.0->stepfunctions) (0.2.0)\n",
      "Requirement already satisfied: numpy<2.0,>=1.9.0 in /opt/conda/lib/python3.10/site-packages (from sagemaker>=2.1.0->stepfunctions) (1.26.4)\n",
      "Requirement already satisfied: protobuf<5.0,>=3.12 in /opt/conda/lib/python3.10/site-packages (from sagemaker>=2.1.0->stepfunctions) (4.24.4)\n",
      "Requirement already satisfied: smdebug-rulesconfig==1.0.1 in /opt/conda/lib/python3.10/site-packages (from sagemaker>=2.1.0->stepfunctions) (1.0.1)\n",
      "Requirement already satisfied: importlib-metadata<7.0,>=1.4.0 in /opt/conda/lib/python3.10/site-packages (from sagemaker>=2.1.0->stepfunctions) (6.10.0)\n",
      "Requirement already satisfied: packaging>=20.0 in /opt/conda/lib/python3.10/site-packages (from sagemaker>=2.1.0->stepfunctions) (24.1)\n",
      "Requirement already satisfied: pandas in /opt/conda/lib/python3.10/site-packages (from sagemaker>=2.1.0->stepfunctions) (2.1.4)\n",
      "Requirement already satisfied: pathos in /opt/conda/lib/python3.10/site-packages (from sagemaker>=2.1.0->stepfunctions) (0.3.2)\n",
      "Requirement already satisfied: schema in /opt/conda/lib/python3.10/site-packages (from sagemaker>=2.1.0->stepfunctions) (0.7.7)\n",
      "Requirement already satisfied: jsonschema in /opt/conda/lib/python3.10/site-packages (from sagemaker>=2.1.0->stepfunctions) (4.17.3)\n",
      "Requirement already satisfied: platformdirs in /opt/conda/lib/python3.10/site-packages (from sagemaker>=2.1.0->stepfunctions) (4.2.2)\n",
      "Requirement already satisfied: tblib<4,>=1.7.0 in /opt/conda/lib/python3.10/site-packages (from sagemaker>=2.1.0->stepfunctions) (2.0.0)\n",
      "Requirement already satisfied: urllib3<3.0.0,>=1.26.8 in /opt/conda/lib/python3.10/site-packages (from sagemaker>=2.1.0->stepfunctions) (1.26.19)\n",
      "Requirement already satisfied: requests in /opt/conda/lib/python3.10/site-packages (from sagemaker>=2.1.0->stepfunctions) (2.32.3)\n",
      "Requirement already satisfied: docker in /opt/conda/lib/python3.10/site-packages (from sagemaker>=2.1.0->stepfunctions) (7.1.0)\n",
      "Requirement already satisfied: tqdm in /opt/conda/lib/python3.10/site-packages (from sagemaker>=2.1.0->stepfunctions) (4.66.5)\n",
      "Requirement already satisfied: psutil in /opt/conda/lib/python3.10/site-packages (from sagemaker>=2.1.0->stepfunctions) (5.9.8)\n",
      "Collecting botocore<1.36.0,>=1.35.8 (from boto3>=1.14.38->stepfunctions)\n",
      "  Downloading botocore-1.35.8-py3-none-any.whl.metadata (5.7 kB)\n",
      "Requirement already satisfied: python-dateutil<3.0.0,>=2.1 in /opt/conda/lib/python3.10/site-packages (from botocore<1.36.0,>=1.35.8->boto3>=1.14.38->stepfunctions) (2.9.0)\n",
      "Requirement already satisfied: zipp>=0.5 in /opt/conda/lib/python3.10/site-packages (from importlib-metadata<7.0,>=1.4.0->sagemaker>=2.1.0->stepfunctions) (3.19.2)\n",
      "Requirement already satisfied: charset-normalizer<4,>=2 in /opt/conda/lib/python3.10/site-packages (from requests->sagemaker>=2.1.0->stepfunctions) (3.3.2)\n",
      "Requirement already satisfied: idna<4,>=2.5 in /opt/conda/lib/python3.10/site-packages (from requests->sagemaker>=2.1.0->stepfunctions) (3.7)\n",
      "Requirement already satisfied: certifi>=2017.4.17 in /opt/conda/lib/python3.10/site-packages (from requests->sagemaker>=2.1.0->stepfunctions) (2024.7.4)\n",
      "Requirement already satisfied: six in /opt/conda/lib/python3.10/site-packages (from google-pasta->sagemaker>=2.1.0->stepfunctions) (1.16.0)\n",
      "Requirement already satisfied: pyrsistent!=0.17.0,!=0.17.1,!=0.17.2,>=0.14.0 in /opt/conda/lib/python3.10/site-packages (from jsonschema->sagemaker>=2.1.0->stepfunctions) (0.20.0)\n",
      "Requirement already satisfied: pytz>=2020.1 in /opt/conda/lib/python3.10/site-packages (from pandas->sagemaker>=2.1.0->stepfunctions) (2023.3)\n",
      "Requirement already satisfied: tzdata>=2022.1 in /opt/conda/lib/python3.10/site-packages (from pandas->sagemaker>=2.1.0->stepfunctions) (2024.1)\n",
      "Requirement already satisfied: ppft>=1.7.6.8 in /opt/conda/lib/python3.10/site-packages (from pathos->sagemaker>=2.1.0->stepfunctions) (1.7.6.8)\n",
      "Requirement already satisfied: dill>=0.3.8 in /opt/conda/lib/python3.10/site-packages (from pathos->sagemaker>=2.1.0->stepfunctions) (0.3.8)\n",
      "Requirement already satisfied: pox>=0.3.4 in /opt/conda/lib/python3.10/site-packages (from pathos->sagemaker>=2.1.0->stepfunctions) (0.3.4)\n",
      "Requirement already satisfied: multiprocess>=0.70.16 in /opt/conda/lib/python3.10/site-packages (from pathos->sagemaker>=2.1.0->stepfunctions) (0.70.16)\n",
      "Downloading boto3-1.35.8-py3-none-any.whl (139 kB)\n",
      "\u001b[2K   \u001b[90m━━━━━━━━━━━━━━━━━━━━━━━━━━━━━━━━━━━━━━━━\u001b[0m \u001b[32m139.1/139.1 kB\u001b[0m \u001b[31m20.9 MB/s\u001b[0m eta \u001b[36m0:00:00\u001b[0m\n",
      "\u001b[?25hDownloading botocore-1.35.8-py3-none-any.whl (12.5 MB)\n",
      "\u001b[2K   \u001b[90m━━━━━━━━━━━━━━━━━━━━━━━━━━━━━━━━━━━━━━━━\u001b[0m \u001b[32m12.5/12.5 MB\u001b[0m \u001b[31m77.0 MB/s\u001b[0m eta \u001b[36m0:00:00\u001b[0m:00:01\u001b[0m0:01\u001b[0m\n",
      "\u001b[?25hBuilding wheels for collected packages: stepfunctions\n",
      "  Building wheel for stepfunctions (setup.py): started\n",
      "  Building wheel for stepfunctions (setup.py): finished with status 'done'\n",
      "  Created wheel for stepfunctions: filename=stepfunctions-2.3.0-py2.py3-none-any.whl size=78149 sha256=347f17662f098b76fc0f802b59eb8cb6dfefe17ee0045ae924d3283cc436036f\n",
      "  Stored in directory: /home/sagemaker-user/.cache/pip/wheels/e8/8e/d2/b36300e3b204b743131942831a469a45ee5e5180884f7306c5\n",
      "Successfully built stepfunctions\n",
      "Installing collected packages: botocore, boto3, stepfunctions\n",
      "  Attempting uninstall: botocore\n",
      "    Found existing installation: botocore 1.34.131\n",
      "    Uninstalling botocore-1.34.131:\n",
      "      Successfully uninstalled botocore-1.34.131\n",
      "  Attempting uninstall: boto3\n",
      "    Found existing installation: boto3 1.34.131\n",
      "    Uninstalling boto3-1.34.131:\n",
      "      Successfully uninstalled boto3-1.34.131\n"
     ]
    },
    {
     "name": "stderr",
     "output_type": "stream",
     "text": [
      "\u001b[31mERROR: pip's dependency resolver does not currently take into account all the packages that are installed. This behaviour is the source of the following dependency conflicts.\n",
      "aiobotocore 2.13.1 requires botocore<1.34.132,>=1.34.70, but you have botocore 1.35.8 which is incompatible.\n",
      "amazon-sagemaker-sql-magic 0.1.3 requires sqlparse==0.5.0, but you have sqlparse 0.5.1 which is incompatible.\n",
      "autogluon-common 0.8.3 requires pandas<1.6,>=1.4.1, but you have pandas 2.1.4 which is incompatible.\n",
      "autogluon-core 0.8.3 requires pandas<1.6,>=1.4.1, but you have pandas 2.1.4 which is incompatible.\n",
      "autogluon-core 0.8.3 requires scikit-learn<1.4.1,>=1.1, but you have scikit-learn 1.4.2 which is incompatible.\n",
      "autogluon-features 0.8.3 requires pandas<1.6,>=1.4.1, but you have pandas 2.1.4 which is incompatible.\n",
      "autogluon-features 0.8.3 requires scikit-learn<1.4.1,>=1.1, but you have scikit-learn 1.4.2 which is incompatible.\n",
      "autogluon-multimodal 0.8.3 requires pandas<1.6,>=1.4.1, but you have pandas 2.1.4 which is incompatible.\n",
      "autogluon-multimodal 0.8.3 requires pytorch-lightning<1.10.0,>=1.9.0, but you have pytorch-lightning 2.0.9 which is incompatible.\n",
      "autogluon-multimodal 0.8.3 requires scikit-learn<1.4.1,>=1.1, but you have scikit-learn 1.4.2 which is incompatible.\n",
      "autogluon-multimodal 0.8.3 requires torch<1.14,>=1.9, but you have torch 2.0.0.post104 which is incompatible.\n",
      "autogluon-multimodal 0.8.3 requires torchmetrics<0.12.0,>=0.11.0, but you have torchmetrics 1.0.3 which is incompatible.\n",
      "autogluon-multimodal 0.8.3 requires torchvision<0.15.0, but you have torchvision 0.15.2a0+ab7b3e6 which is incompatible.\n",
      "autogluon-tabular 0.8.3 requires pandas<1.6,>=1.4.1, but you have pandas 2.1.4 which is incompatible.\n",
      "autogluon-tabular 0.8.3 requires scikit-learn<1.4.1,>=1.1, but you have scikit-learn 1.4.2 which is incompatible.\n",
      "autogluon-timeseries 0.8.3 requires pandas<1.6,>=1.4.1, but you have pandas 2.1.4 which is incompatible.\n",
      "autogluon-timeseries 0.8.3 requires pytorch-lightning<1.10.0,>=1.7.4, but you have pytorch-lightning 2.0.9 which is incompatible.\n",
      "autogluon-timeseries 0.8.3 requires torch<1.14,>=1.9, but you have torch 2.0.0.post104 which is incompatible.\n",
      "langchain-aws 0.1.15 requires boto3<1.35.0,>=1.34.131, but you have boto3 1.35.8 which is incompatible.\u001b[0m\u001b[31m\n"
     ]
    },
    {
     "name": "stdout",
     "output_type": "stream",
     "text": [
      "Successfully installed boto3-1.35.8 botocore-1.35.8 stepfunctions-2.3.0\n"
     ]
    },
    {
     "name": "stderr",
     "output_type": "stream",
     "text": [
      "\u001b[0m"
     ]
    }
   ],
   "source": [
    "%%bash\n",
    "pip install stepfunctions\n"
   ]
  },
  {
   "cell_type": "code",
   "execution_count": null,
   "id": "6d3a1167-60b7-4b1e-8762-1239a15076af",
   "metadata": {
    "tags": []
   },
   "outputs": [],
   "source": [
    "# Todo\n",
    "#s3://sagemaker-us-east-1-852197184467/l3e3/data/\n",
    "import os\n",
    "import boto3\n",
    "s3_bucket = \"sagemaker-us-east-1-852197184467\"\n",
    "s3_prefix = \"l3e3/data\"\n",
    "file_name = \"HelloBlazePreprocess.py\"\n",
    "def upload_file_to_s3(file_name, s3_prefix):\n",
    "    object_name = os.path.join(s3_prefix, file_name)\n",
    "    s3_client = boto3.client('s3')\n",
    "    try:\n",
    "        response = s3_client.upload_file(file_name, s3_bucket, object_name)\n",
    "    except ClientError as e:\n",
    "        logging.error(e)\n",
    "        return False\n",
    "    return\n",
    "\n",
    "upload_file_to_s3(file_name, s3_prefix)\n",
    "\n",
    "processing_job_input_path = \"s3://\" + \"/\".join([s3_bucket, s3_prefix, file_name])\n",
    "\n",
    "print(processing_job_input_path)"
   ]
  },
  {
   "cell_type": "markdown",
   "id": "2980c12c",
   "metadata": {},
   "source": [
    "## Exercise: Fill out preprocessing step."
   ]
  },
  {
   "cell_type": "markdown",
   "id": "752d3b79",
   "metadata": {},
   "source": [
    "The 'step' interface is designed to be quite similar to the Preprocessing Job in lesson 2. The main difference between these is the ability of a 'step' to interface with other steps. Given the successful outcome of a single step, the next step specified in a workflow will automatically continue. In our case, a training step will launch given the successful outcome of a preprocessing step. The preprocessing step has been encoded for you. Upload the preprocessing code 'HelloBlazePreprocess.py' and the zipped dataset 'reviews_Musical_Instruments_5.json.zip' to s3, and fill out the constants in the code below. "
   ]
  },
  {
   "cell_type": "markdown",
   "id": "0df2f1ac",
   "metadata": {},
   "source": [
    "Code below is the preprocessing step. Fill in the constants in the code."
   ]
  },
  {
   "cell_type": "code",
   "execution_count": 2,
   "id": "9d82815d",
   "metadata": {
    "tags": []
   },
   "outputs": [
    {
     "name": "stdout",
     "output_type": "stream",
     "text": [
      "sagemaker.config INFO - Not applying SDK defaults from location: /etc/xdg/sagemaker/config.yaml\n",
      "sagemaker.config INFO - Not applying SDK defaults from location: /home/sagemaker-user/.config/sagemaker/config.yaml\n"
     ]
    }
   ],
   "source": [
    "from sagemaker import get_execution_role\n",
    "from sagemaker.sklearn.processing import SKLearnProcessor\n",
    "from sagemaker.processing import ProcessingInput, ProcessingOutput\n",
    "from stepfunctions.steps.sagemaker import ProcessingStep\n",
    "import sagemaker\n",
    "\n",
    "role = get_execution_role()\n",
    "\n",
    "PREPROCESSING_JOB_NAME = \"preprocess-job-01\"\n",
    "input_data = 's3://sagemaker-us-east-1-852197184467/l3e3/data/reviews_Musical_Instruments_5.json.zip'\n",
    "input_preprocessing_code = 's3://sagemaker-us-east-1-852197184467/l3e3/data/HelloBlazePreprocess.py'\n",
    "sess = sagemaker.Session()\n",
    "\n",
    "sklearn_processor = SKLearnProcessor(framework_version='0.20.0',\n",
    "                                     role=role,\n",
    "                                     instance_type='ml.m5.large',\n",
    "                                     instance_count=1)\n",
    "\n",
    "\n",
    "processed_data_train = \"{}{}/{}\".format(\"s3://\", sess.default_bucket(), 'hello_blaze_train_scikit')\n",
    "processed_data_test = \"{}{}/{}\".format(\"s3://\", sess.default_bucket(), 'hello_blaze_test_scikit')\n",
    "\n",
    "inputs=[ProcessingInput(source=input_data, destination='/opt/ml/processing/input', input_name = 'input-1'),  ProcessingInput(source=input_preprocessing_code , destination='/opt/ml/processing/input/code', input_name = 'code')]\n",
    "\n",
    "\n",
    "outputs=[ProcessingOutput(source='/opt/ml/processing/output/train', destination=processed_data_train, output_name = 'train_data'), ProcessingOutput(source='/opt/ml/processing/output/test', destination=processed_data_test, output_name = 'test_data')]\n",
    "\n",
    "\n",
    "processing_step = ProcessingStep(\n",
    "    \"SageMaker pre-processing step 4\",\n",
    "    processor=sklearn_processor,\n",
    "    job_name=PREPROCESSING_JOB_NAME,\n",
    "    inputs=inputs,\n",
    "    outputs=outputs,\n",
    "    container_entrypoint=[\"python3\", \"/opt/ml/processing/input/code/HelloBlazePreprocess.py\"],\n",
    ")\n"
   ]
  },
  {
   "cell_type": "markdown",
   "id": "5048e4f3",
   "metadata": {},
   "source": [
    "## Exercise: Fill out Training Step"
   ]
  },
  {
   "cell_type": "markdown",
   "id": "a904f213",
   "metadata": {},
   "source": [
    "Upon the success of the preprocessing step, we wish to execute a training step. A training step is defined below. Fill the constants in the code."
   ]
  },
  {
   "cell_type": "code",
   "execution_count": 3,
   "id": "a7b7118c",
   "metadata": {},
   "outputs": [],
   "source": [
    "from stepfunctions.steps.sagemaker import TrainingStep\n",
    "import boto3\n",
    "\n",
    "WORKFLOW_OUTPUT = \"s3://sagemaker-us-east-1-852197184467/l3e3/workflow_output/\"\n",
    "TRAINING_JOB_NAME = \"test-job-train-001\"\n",
    "\n",
    "region_name = boto3.Session().region_name\n",
    "container = sagemaker.image_uris.retrieve(\n",
    "    region=region_name, framework=\"blazingtext\", version=\"latest\"\n",
    ")\n",
    "\n",
    "helloBlazeEstimator = sagemaker.estimator.Estimator(\n",
    "    container,\n",
    "    role=role,\n",
    "    instance_count=1,\n",
    "    instance_type='ml.m5.large',\n",
    "    volume_size=30,\n",
    "    max_run=360000,\n",
    "    input_mode=\"File\",\n",
    "    output_path=WORKFLOW_OUTPUT,\n",
    "    sagemaker_session=sess,\n",
    ")\n",
    "\n",
    "helloBlazeEstimator.set_hyperparameters(mode='supervised')\n",
    "\n",
    "training_step = TrainingStep(\n",
    "    \"SageMaker Training Step\",\n",
    "    estimator=helloBlazeEstimator,\n",
    "    data={\"train\": sagemaker.TrainingInput(processed_data_train, content_type=\"text/plain\"), \"validation\": sagemaker.TrainingInput(processed_data_test, content_type=\"text/plain\")},\n",
    "    job_name=TRAINING_JOB_NAME,\n",
    "    wait_for_completion=True,\n",
    ")"
   ]
  },
  {
   "cell_type": "markdown",
   "id": "672f280c",
   "metadata": {},
   "source": [
    "## Exercise: Create Workflow & Execute It. "
   ]
  },
  {
   "cell_type": "markdown",
   "id": "4c549f3b",
   "metadata": {},
   "source": [
    "To link the steps, you'll need to create a role that is capable of doing so. Go to IAM and create a Step Functions role, and attach the CloudWatchEventsFullAccess and SageMakerFullAccess policies. Once done, make use of the above steps to create a workflow. Quick debugging tip: jobs must have a unique name; you'll need to rename job names when debugging. Consider creating a method that will dynamically create unique job names! "
   ]
  },
  {
   "cell_type": "code",
   "execution_count": 4,
   "id": "c4c39201",
   "metadata": {},
   "outputs": [],
   "source": [
    "from stepfunctions.steps import Chain\n",
    "from stepfunctions.workflow import Workflow\n",
    "\n",
    "workflow_role = \"arn:aws:iam::852197184467:role/step-function-0001\"\n",
    "\n",
    "workflow_graph = Chain([processing_step, training_step])\n",
    "workflow = Workflow(\n",
    "    name=\"SageMakerProcessingWorkflow0001\",\n",
    "    definition=workflow_graph,\n",
    "    role=workflow_role,\n",
    ")\n",
    "\n",
    "workflow.create()\n",
    "\n",
    "execution = workflow.execute(\n",
    "    inputs={\n",
    "        \"PreprocessingJobName\": PREPROCESSING_JOB_NAME,  # Each pre processing job (SageMaker processing job) requires a unique name,\n",
    "        \"TrainingJobName\": TRAINING_JOB_NAME  # Each Sagemaker Training job requires a unique name,       \n",
    "    }\n",
    ")\n",
    "\n",
    "execution_output = execution.get_output(wait=True)"
   ]
  },
  {
   "cell_type": "markdown",
   "id": "d49a3122",
   "metadata": {},
   "source": [
    "You can track the outcome of this workflow through a custom UI that gets generated! Check it out!"
   ]
  },
  {
   "cell_type": "code",
   "execution_count": 5,
   "id": "c81e08b9",
   "metadata": {},
   "outputs": [
    {
     "data": {
      "text/html": [
       "\n",
       "<link rel=\"stylesheet\" type=\"text/css\" href=\"https://do0of8uwbahzz.cloudfront.net/graph.css\">\n",
       "<div id=\"graph-110\" class=\"workflowgraph\">\n",
       "    \n",
       "    <style>\n",
       "        .graph-legend ul {\n",
       "            list-style-type: none;\n",
       "            padding: 10px;\n",
       "            padding-left: 0;\n",
       "            margin: 0;\n",
       "            position: absolute;\n",
       "            top: 0;\n",
       "            background: transparent;\n",
       "        }\n",
       "\n",
       "        .graph-legend li {\n",
       "            margin-left: 10px;\n",
       "            display: inline-block;\n",
       "        }\n",
       "\n",
       "        .graph-legend li > div {\n",
       "            width: 10px;\n",
       "            height: 10px;\n",
       "            display: inline-block;\n",
       "        }\n",
       "\n",
       "        .graph-legend .success { background-color: #2BD62E }\n",
       "        .graph-legend .failed { background-color: #DE322F }\n",
       "        .graph-legend .cancelled { background-color: #DDDDDD }\n",
       "        .graph-legend .in-progress { background-color: #53C9ED }\n",
       "        .graph-legend .caught-error { background-color: #FFA500 }\n",
       "    </style>\n",
       "    <div class=\"graph-legend\">\n",
       "        <ul>\n",
       "            <li>\n",
       "                <div class=\"success\"></div>\n",
       "                <span>Success</span>\n",
       "            </li>\n",
       "            <li>\n",
       "                <div class=\"failed\"></div>\n",
       "                <span>Failed</span>\n",
       "            </li>\n",
       "            <li>\n",
       "                <div class=\"cancelled\"></div>\n",
       "                <span>Cancelled</span>\n",
       "            </li>\n",
       "            <li>\n",
       "                <div class=\"in-progress\"></div>\n",
       "                <span>In Progress</span>\n",
       "            </li>\n",
       "            <li>\n",
       "                <div class=\"caught-error\"></div>\n",
       "                <span>Caught Error</span>\n",
       "            </li>\n",
       "        </ul>\n",
       "    </div>\n",
       "\n",
       "    <svg></svg>\n",
       "    <a href=\"https://console.aws.amazon.com/states/home?region=us-east-1#/executions/details/arn:aws:states:us-east-1:852197184467:execution:SageMakerProcessingWorkflow0001:cefee9ba-673d-46d5-83ca-6d867e2990c9\" target=\"_blank\"> Inspect in AWS Step Functions </a>\n",
       "</div>\n",
       "\n",
       "<script type=\"text/javascript\">\n",
       "\n",
       "require.config({\n",
       "    paths: {\n",
       "        sfn: \"https://do0of8uwbahzz.cloudfront.net/sfn\",\n",
       "    }\n",
       "});\n",
       "\n",
       "require(['sfn'], function(sfn) {\n",
       "    var element = document.getElementById('graph-110')\n",
       "\n",
       "    var options = {\n",
       "        width: parseFloat(getComputedStyle(element, null).width.replace(\"px\", \"\")),\n",
       "        height: 1000,\n",
       "        layout: 'LR',\n",
       "        resizeHeight: true\n",
       "    };\n",
       "\n",
       "    var definition = {\"StartAt\": \"SageMaker pre-processing step 4\", \"States\": {\"SageMaker pre-processing step 4\": {\"Resource\": \"arn:aws:states:::sagemaker:createProcessingJob.sync\", \"Parameters\": {\"ProcessingJobName\": \"preprocess-job-01\", \"ProcessingInputs\": [{\"InputName\": \"input-1\", \"AppManaged\": false, \"S3Input\": {\"S3Uri\": \"s3://sagemaker-us-east-1-852197184467/l3e3/data/reviews_Musical_Instruments_5.json.zip\", \"LocalPath\": \"/opt/ml/processing/input\", \"S3DataType\": \"S3Prefix\", \"S3InputMode\": \"File\", \"S3DataDistributionType\": \"FullyReplicated\", \"S3CompressionType\": \"None\"}}, {\"InputName\": \"code\", \"AppManaged\": false, \"S3Input\": {\"S3Uri\": \"s3://sagemaker-us-east-1-852197184467/l3e3/data/HelloBlazePreprocess.py\", \"LocalPath\": \"/opt/ml/processing/input/code\", \"S3DataType\": \"S3Prefix\", \"S3InputMode\": \"File\", \"S3DataDistributionType\": \"FullyReplicated\", \"S3CompressionType\": \"None\"}}], \"ProcessingOutputConfig\": {\"Outputs\": [{\"OutputName\": \"train_data\", \"AppManaged\": false, \"S3Output\": {\"S3Uri\": \"s3://sagemaker-us-east-1-852197184467/hello_blaze_train_scikit\", \"LocalPath\": \"/opt/ml/processing/output/train\", \"S3UploadMode\": \"EndOfJob\"}}, {\"OutputName\": \"test_data\", \"AppManaged\": false, \"S3Output\": {\"S3Uri\": \"s3://sagemaker-us-east-1-852197184467/hello_blaze_test_scikit\", \"LocalPath\": \"/opt/ml/processing/output/test\", \"S3UploadMode\": \"EndOfJob\"}}]}, \"AppSpecification\": {\"ImageUri\": \"683313688378.dkr.ecr.us-east-1.amazonaws.com/sagemaker-scikit-learn:0.20.0-cpu-py3\", \"ContainerEntrypoint\": [\"python3\", \"/opt/ml/processing/input/code/HelloBlazePreprocess.py\"]}, \"RoleArn\": \"arn:aws:iam::852197184467:role/service-role/AmazonSageMaker-ExecutionRole-20240820T174475\", \"ProcessingResources\": {\"ClusterConfig\": {\"InstanceCount\": 1, \"InstanceType\": \"ml.m5.large\", \"VolumeSizeInGB\": 30}}}, \"Type\": \"Task\", \"Next\": \"SageMaker Training Step\"}, \"SageMaker Training Step\": {\"Resource\": \"arn:aws:states:::sagemaker:createTrainingJob.sync\", \"Parameters\": {\"AlgorithmSpecification\": {\"TrainingImage\": \"811284229777.dkr.ecr.us-east-1.amazonaws.com/blazingtext:1\", \"TrainingInputMode\": \"File\"}, \"OutputDataConfig\": {\"S3OutputPath\": \"s3://sagemaker-us-east-1-852197184467/l3e3/workflow_output/\"}, \"StoppingCondition\": {\"MaxRuntimeInSeconds\": 360000}, \"ResourceConfig\": {\"VolumeSizeInGB\": 30, \"InstanceCount\": 1, \"InstanceType\": \"ml.m5.large\"}, \"RoleArn\": \"arn:aws:iam::852197184467:role/service-role/AmazonSageMaker-ExecutionRole-20240820T174475\", \"InputDataConfig\": [{\"DataSource\": {\"S3DataSource\": {\"S3DataType\": \"S3Prefix\", \"S3Uri\": \"s3://sagemaker-us-east-1-852197184467/hello_blaze_train_scikit\", \"S3DataDistributionType\": \"FullyReplicated\"}}, \"ContentType\": \"text/plain\", \"ChannelName\": \"train\"}, {\"DataSource\": {\"S3DataSource\": {\"S3DataType\": \"S3Prefix\", \"S3Uri\": \"s3://sagemaker-us-east-1-852197184467/hello_blaze_test_scikit\", \"S3DataDistributionType\": \"FullyReplicated\"}}, \"ContentType\": \"text/plain\", \"ChannelName\": \"validation\"}], \"HyperParameters\": {\"mode\": \"supervised\"}, \"TrainingJobName\": \"test-job-train-001\", \"DebugHookConfig\": {\"S3OutputPath\": \"s3://sagemaker-us-east-1-852197184467/l3e3/workflow_output/\"}}, \"Type\": \"Task\", \"End\": true}}};\n",
       "    var elementId = '#graph-110';\n",
       "    var events = { 'events': [{\"timestamp\": 1724952055.98, \"type\": \"ExecutionStarted\", \"id\": 1, \"previousEventId\": 0, \"executionStartedEventDetails\": {\"input\": \"{\\n    \\\"PreprocessingJobName\\\": \\\"preprocess-job-01\\\",\\n    \\\"TrainingJobName\\\": \\\"test-job-train-001\\\"\\n}\", \"inputDetails\": {\"truncated\": false}, \"roleArn\": \"arn:aws:iam::852197184467:role/step-function-0001\"}}, {\"timestamp\": 1724952056.033, \"type\": \"TaskStateEntered\", \"id\": 2, \"previousEventId\": 0, \"stateEnteredEventDetails\": {\"name\": \"SageMaker pre-processing step 4\", \"input\": \"{\\n    \\\"PreprocessingJobName\\\": \\\"preprocess-job-01\\\",\\n    \\\"TrainingJobName\\\": \\\"test-job-train-001\\\"\\n}\", \"inputDetails\": {\"truncated\": false}}}, {\"timestamp\": 1724952056.033, \"type\": \"TaskScheduled\", \"id\": 3, \"previousEventId\": 2, \"taskScheduledEventDetails\": {\"resourceType\": \"sagemaker\", \"resource\": \"createProcessingJob.sync\", \"region\": \"us-east-1\", \"parameters\": \"{\\\"ProcessingJobName\\\":\\\"preprocess-job-01\\\",\\\"ProcessingInputs\\\":[{\\\"InputName\\\":\\\"input-1\\\",\\\"AppManaged\\\":false,\\\"S3Input\\\":{\\\"S3Uri\\\":\\\"s3://sagemaker-us-east-1-852197184467/l3e3/data/reviews_Musical_Instruments_5.json.zip\\\",\\\"LocalPath\\\":\\\"/opt/ml/processing/input\\\",\\\"S3DataType\\\":\\\"S3Prefix\\\",\\\"S3InputMode\\\":\\\"File\\\",\\\"S3DataDistributionType\\\":\\\"FullyReplicated\\\",\\\"S3CompressionType\\\":\\\"None\\\"}},{\\\"InputName\\\":\\\"code\\\",\\\"AppManaged\\\":false,\\\"S3Input\\\":{\\\"S3Uri\\\":\\\"s3://sagemaker-us-east-1-852197184467/l3e3/data/HelloBlazePreprocess.py\\\",\\\"LocalPath\\\":\\\"/opt/ml/processing/input/code\\\",\\\"S3DataType\\\":\\\"S3Prefix\\\",\\\"S3InputMode\\\":\\\"File\\\",\\\"S3DataDistributionType\\\":\\\"FullyReplicated\\\",\\\"S3CompressionType\\\":\\\"None\\\"}}],\\\"ProcessingOutputConfig\\\":{\\\"Outputs\\\":[{\\\"OutputName\\\":\\\"train_data\\\",\\\"AppManaged\\\":false,\\\"S3Output\\\":{\\\"S3Uri\\\":\\\"s3://sagemaker-us-east-1-852197184467/hello_blaze_train_scikit\\\",\\\"LocalPath\\\":\\\"/opt/ml/processing/output/train\\\",\\\"S3UploadMode\\\":\\\"EndOfJob\\\"}},{\\\"OutputName\\\":\\\"test_data\\\",\\\"AppManaged\\\":false,\\\"S3Output\\\":{\\\"S3Uri\\\":\\\"s3://sagemaker-us-east-1-852197184467/hello_blaze_test_scikit\\\",\\\"LocalPath\\\":\\\"/opt/ml/processing/output/test\\\",\\\"S3UploadMode\\\":\\\"EndOfJob\\\"}}]},\\\"AppSpecification\\\":{\\\"ImageUri\\\":\\\"683313688378.dkr.ecr.us-east-1.amazonaws.com/sagemaker-scikit-learn:0.20.0-cpu-py3\\\",\\\"ContainerEntrypoint\\\":[\\\"python3\\\",\\\"/opt/ml/processing/input/code/HelloBlazePreprocess.py\\\"]},\\\"RoleArn\\\":\\\"arn:aws:iam::852197184467:role/service-role/AmazonSageMaker-ExecutionRole-20240820T174475\\\",\\\"ProcessingResources\\\":{\\\"ClusterConfig\\\":{\\\"InstanceCount\\\":1,\\\"InstanceType\\\":\\\"ml.m5.large\\\",\\\"VolumeSizeInGB\\\":30}},\\\"Tags\\\":[{\\\"Key\\\":\\\"MANAGED_BY_AWS\\\",\\\"Value\\\":\\\"STARTED_BY_STEP_FUNCTIONS\\\"}]}\"}}, {\"timestamp\": 1724952056.108, \"type\": \"TaskStarted\", \"id\": 4, \"previousEventId\": 3, \"taskStartedEventDetails\": {\"resourceType\": \"sagemaker\", \"resource\": \"createProcessingJob.sync\"}}, {\"timestamp\": 1724952056.489, \"type\": \"TaskSubmitted\", \"id\": 5, \"previousEventId\": 4, \"taskSubmittedEventDetails\": {\"resourceType\": \"sagemaker\", \"resource\": \"createProcessingJob.sync\", \"output\": \"{\\\"ProcessingJobArn\\\":\\\"arn:aws:sagemaker:us-east-1:852197184467:processing-job/preprocess-job-01\\\",\\\"SdkHttpMetadata\\\":{\\\"AllHttpHeaders\\\":{\\\"date\\\":[\\\"Thu, 29 Aug 2024 17:20:56 GMT\\\"],\\\"content-length\\\":[\\\"96\\\"],\\\"x-amzn-requestid\\\":[\\\"25389f59-6314-48b2-b853-ae3dcedfb8d8\\\"],\\\"content-type\\\":[\\\"application/x-amz-json-1.1\\\"]},\\\"HttpHeaders\\\":{\\\"content-length\\\":\\\"96\\\",\\\"content-type\\\":\\\"application/x-amz-json-1.1\\\",\\\"date\\\":\\\"Thu, 29 Aug 2024 17:20:56 GMT\\\",\\\"x-amzn-requestid\\\":\\\"25389f59-6314-48b2-b853-ae3dcedfb8d8\\\"},\\\"HttpStatusCode\\\":200},\\\"SdkResponseMetadata\\\":{\\\"RequestId\\\":\\\"25389f59-6314-48b2-b853-ae3dcedfb8d8\\\"}}\", \"outputDetails\": {\"truncated\": false}}}, {\"timestamp\": 1724952214.749, \"type\": \"TaskSucceeded\", \"id\": 6, \"previousEventId\": 5, \"taskSucceededEventDetails\": {\"resourceType\": \"sagemaker\", \"resource\": \"createProcessingJob.sync\", \"output\": \"{\\\"SdkResponseMetadata\\\":null,\\\"SdkHttpMetadata\\\":null,\\\"ProcessingInputs\\\":[{\\\"InputName\\\":\\\"input-1\\\",\\\"AppManaged\\\":false,\\\"S3Input\\\":{\\\"S3Uri\\\":\\\"s3://sagemaker-us-east-1-852197184467/l3e3/data/reviews_Musical_Instruments_5.json.zip\\\",\\\"LocalPath\\\":\\\"/opt/ml/processing/input\\\",\\\"S3DataType\\\":\\\"S3_PREFIX\\\",\\\"S3InputMode\\\":\\\"FILE\\\",\\\"S3DataDistributionType\\\":\\\"FULLYREPLICATED\\\",\\\"S3CompressionType\\\":null},\\\"DatasetDefinition\\\":null},{\\\"InputName\\\":\\\"code\\\",\\\"AppManaged\\\":false,\\\"S3Input\\\":{\\\"S3Uri\\\":\\\"s3://sagemaker-us-east-1-852197184467/l3e3/data/HelloBlazePreprocess.py\\\",\\\"LocalPath\\\":\\\"/opt/ml/processing/input/code\\\",\\\"S3DataType\\\":\\\"S3_PREFIX\\\",\\\"S3InputMode\\\":\\\"FILE\\\",\\\"S3DataDistributionType\\\":\\\"FULLYREPLICATED\\\",\\\"S3CompressionType\\\":null},\\\"DatasetDefinition\\\":null}],\\\"ProcessingOutputConfig\\\":{\\\"Outputs\\\":[{\\\"OutputName\\\":\\\"train_data\\\",\\\"S3Output\\\":{\\\"S3Uri\\\":\\\"s3://sagemaker-us-east-1-852197184467/hello_blaze_train_scikit\\\",\\\"LocalPath\\\":\\\"/opt/ml/processing/output/train\\\",\\\"S3UploadMode\\\":\\\"END_OF_JOB\\\"},\\\"FeatureStoreOutput\\\":null,\\\"AppManaged\\\":false},{\\\"OutputName\\\":\\\"test_data\\\",\\\"S3Output\\\":{\\\"S3Uri\\\":\\\"s3://sagemaker-us-east-1-852197184467/hello_blaze_test_scikit\\\",\\\"LocalPath\\\":\\\"/opt/ml/processing/output/test\\\",\\\"S3UploadMode\\\":\\\"END_OF_JOB\\\"},\\\"FeatureStoreOutput\\\":null,\\\"AppManaged\\\":false}],\\\"KmsKeyId\\\":null},\\\"ProcessingJobName\\\":\\\"preprocess-job-01\\\",\\\"ProcessingResources\\\":{\\\"ClusterConfig\\\":{\\\"InstanceCount\\\":1,\\\"InstanceType\\\":\\\"ml.m5.large\\\",\\\"VolumeSizeInGB\\\":30,\\\"VolumeKmsKeyId\\\":null}},\\\"StoppingCondition\\\":{\\\"MaxRuntimeInSeconds\\\":86400},\\\"AppSpecification\\\":{\\\"ImageUri\\\":\\\"683313688378.dkr.ecr.us-east-1.amazonaws.com/sagemaker-scikit-learn:0.20.0-cpu-py3\\\",\\\"ContainerEntrypoint\\\":[\\\"python3\\\",\\\"/opt/ml/processing/input/code/HelloBlazePreprocess.py\\\"],\\\"ContainerArguments\\\":null},\\\"Environment\\\":null,\\\"NetworkConfig\\\":null,\\\"RoleArn\\\":\\\"arn:aws:iam::852197184467:role/service-role/AmazonSageMaker-ExecutionRole-20240820T174475\\\",\\\"ExperimentConfig\\\":{\\\"ExperimentName\\\":null,\\\"TrialName\\\":null,\\\"TrialComponentDisplayName\\\":null,\\\"RunName\\\":null},\\\"ProcessingJobArn\\\":\\\"arn:aws:sagemaker:us-east-1:852197184467:processing-job/preprocess-job-01\\\",\\\"ProcessingJobStatus\\\":\\\"Completed\\\",\\\"ExitMessage\\\":null,\\\"FailureReason\\\":null,\\\"ProcessingEndTime\\\":1724952197000,\\\"ProcessingStartTime\\\":1724952108000,\\\"LastModifiedTime\\\":1724952212000,\\\"CreationTime\\\":1724952056000,\\\"LastModifiedBy\\\":null,\\\"CreatedBy\\\":null,\\\"MonitoringScheduleArn\\\":null,\\\"AutoMLJobArn\\\":null,\\\"TrainingJobArn\\\":null,\\\"Tags\\\":{\\\"AWS_STEP_FUNCTIONS_EXECUTION_ARN\\\":\\\"arn:aws:states:us-east-1:852197184467:execution:SageMakerProcessingWorkflow0001:cefee9ba-673d-46d5-83ca-6d867e2990c9\\\",\\\"MANAGED_BY_AWS\\\":\\\"STARTED_BY_STEP_FUNCTIONS\\\"}}\", \"outputDetails\": {\"truncated\": false}}}, {\"timestamp\": 1724952214.781, \"type\": \"TaskStateExited\", \"id\": 7, \"previousEventId\": 6, \"stateExitedEventDetails\": {\"name\": \"SageMaker pre-processing step 4\", \"output\": \"{\\\"SdkResponseMetadata\\\":null,\\\"SdkHttpMetadata\\\":null,\\\"ProcessingInputs\\\":[{\\\"InputName\\\":\\\"input-1\\\",\\\"AppManaged\\\":false,\\\"S3Input\\\":{\\\"S3Uri\\\":\\\"s3://sagemaker-us-east-1-852197184467/l3e3/data/reviews_Musical_Instruments_5.json.zip\\\",\\\"LocalPath\\\":\\\"/opt/ml/processing/input\\\",\\\"S3DataType\\\":\\\"S3_PREFIX\\\",\\\"S3InputMode\\\":\\\"FILE\\\",\\\"S3DataDistributionType\\\":\\\"FULLYREPLICATED\\\",\\\"S3CompressionType\\\":null},\\\"DatasetDefinition\\\":null},{\\\"InputName\\\":\\\"code\\\",\\\"AppManaged\\\":false,\\\"S3Input\\\":{\\\"S3Uri\\\":\\\"s3://sagemaker-us-east-1-852197184467/l3e3/data/HelloBlazePreprocess.py\\\",\\\"LocalPath\\\":\\\"/opt/ml/processing/input/code\\\",\\\"S3DataType\\\":\\\"S3_PREFIX\\\",\\\"S3InputMode\\\":\\\"FILE\\\",\\\"S3DataDistributionType\\\":\\\"FULLYREPLICATED\\\",\\\"S3CompressionType\\\":null},\\\"DatasetDefinition\\\":null}],\\\"ProcessingOutputConfig\\\":{\\\"Outputs\\\":[{\\\"OutputName\\\":\\\"train_data\\\",\\\"S3Output\\\":{\\\"S3Uri\\\":\\\"s3://sagemaker-us-east-1-852197184467/hello_blaze_train_scikit\\\",\\\"LocalPath\\\":\\\"/opt/ml/processing/output/train\\\",\\\"S3UploadMode\\\":\\\"END_OF_JOB\\\"},\\\"FeatureStoreOutput\\\":null,\\\"AppManaged\\\":false},{\\\"OutputName\\\":\\\"test_data\\\",\\\"S3Output\\\":{\\\"S3Uri\\\":\\\"s3://sagemaker-us-east-1-852197184467/hello_blaze_test_scikit\\\",\\\"LocalPath\\\":\\\"/opt/ml/processing/output/test\\\",\\\"S3UploadMode\\\":\\\"END_OF_JOB\\\"},\\\"FeatureStoreOutput\\\":null,\\\"AppManaged\\\":false}],\\\"KmsKeyId\\\":null},\\\"ProcessingJobName\\\":\\\"preprocess-job-01\\\",\\\"ProcessingResources\\\":{\\\"ClusterConfig\\\":{\\\"InstanceCount\\\":1,\\\"InstanceType\\\":\\\"ml.m5.large\\\",\\\"VolumeSizeInGB\\\":30,\\\"VolumeKmsKeyId\\\":null}},\\\"StoppingCondition\\\":{\\\"MaxRuntimeInSeconds\\\":86400},\\\"AppSpecification\\\":{\\\"ImageUri\\\":\\\"683313688378.dkr.ecr.us-east-1.amazonaws.com/sagemaker-scikit-learn:0.20.0-cpu-py3\\\",\\\"ContainerEntrypoint\\\":[\\\"python3\\\",\\\"/opt/ml/processing/input/code/HelloBlazePreprocess.py\\\"],\\\"ContainerArguments\\\":null},\\\"Environment\\\":null,\\\"NetworkConfig\\\":null,\\\"RoleArn\\\":\\\"arn:aws:iam::852197184467:role/service-role/AmazonSageMaker-ExecutionRole-20240820T174475\\\",\\\"ExperimentConfig\\\":{\\\"ExperimentName\\\":null,\\\"TrialName\\\":null,\\\"TrialComponentDisplayName\\\":null,\\\"RunName\\\":null},\\\"ProcessingJobArn\\\":\\\"arn:aws:sagemaker:us-east-1:852197184467:processing-job/preprocess-job-01\\\",\\\"ProcessingJobStatus\\\":\\\"Completed\\\",\\\"ExitMessage\\\":null,\\\"FailureReason\\\":null,\\\"ProcessingEndTime\\\":1724952197000,\\\"ProcessingStartTime\\\":1724952108000,\\\"LastModifiedTime\\\":1724952212000,\\\"CreationTime\\\":1724952056000,\\\"LastModifiedBy\\\":null,\\\"CreatedBy\\\":null,\\\"MonitoringScheduleArn\\\":null,\\\"AutoMLJobArn\\\":null,\\\"TrainingJobArn\\\":null,\\\"Tags\\\":{\\\"AWS_STEP_FUNCTIONS_EXECUTION_ARN\\\":\\\"arn:aws:states:us-east-1:852197184467:execution:SageMakerProcessingWorkflow0001:cefee9ba-673d-46d5-83ca-6d867e2990c9\\\",\\\"MANAGED_BY_AWS\\\":\\\"STARTED_BY_STEP_FUNCTIONS\\\"}}\", \"outputDetails\": {\"truncated\": false}}}, {\"timestamp\": 1724952214.781, \"type\": \"TaskStateEntered\", \"id\": 8, \"previousEventId\": 7, \"stateEnteredEventDetails\": {\"name\": \"SageMaker Training Step\", \"input\": \"{\\\"SdkResponseMetadata\\\":null,\\\"SdkHttpMetadata\\\":null,\\\"ProcessingInputs\\\":[{\\\"InputName\\\":\\\"input-1\\\",\\\"AppManaged\\\":false,\\\"S3Input\\\":{\\\"S3Uri\\\":\\\"s3://sagemaker-us-east-1-852197184467/l3e3/data/reviews_Musical_Instruments_5.json.zip\\\",\\\"LocalPath\\\":\\\"/opt/ml/processing/input\\\",\\\"S3DataType\\\":\\\"S3_PREFIX\\\",\\\"S3InputMode\\\":\\\"FILE\\\",\\\"S3DataDistributionType\\\":\\\"FULLYREPLICATED\\\",\\\"S3CompressionType\\\":null},\\\"DatasetDefinition\\\":null},{\\\"InputName\\\":\\\"code\\\",\\\"AppManaged\\\":false,\\\"S3Input\\\":{\\\"S3Uri\\\":\\\"s3://sagemaker-us-east-1-852197184467/l3e3/data/HelloBlazePreprocess.py\\\",\\\"LocalPath\\\":\\\"/opt/ml/processing/input/code\\\",\\\"S3DataType\\\":\\\"S3_PREFIX\\\",\\\"S3InputMode\\\":\\\"FILE\\\",\\\"S3DataDistributionType\\\":\\\"FULLYREPLICATED\\\",\\\"S3CompressionType\\\":null},\\\"DatasetDefinition\\\":null}],\\\"ProcessingOutputConfig\\\":{\\\"Outputs\\\":[{\\\"OutputName\\\":\\\"train_data\\\",\\\"S3Output\\\":{\\\"S3Uri\\\":\\\"s3://sagemaker-us-east-1-852197184467/hello_blaze_train_scikit\\\",\\\"LocalPath\\\":\\\"/opt/ml/processing/output/train\\\",\\\"S3UploadMode\\\":\\\"END_OF_JOB\\\"},\\\"FeatureStoreOutput\\\":null,\\\"AppManaged\\\":false},{\\\"OutputName\\\":\\\"test_data\\\",\\\"S3Output\\\":{\\\"S3Uri\\\":\\\"s3://sagemaker-us-east-1-852197184467/hello_blaze_test_scikit\\\",\\\"LocalPath\\\":\\\"/opt/ml/processing/output/test\\\",\\\"S3UploadMode\\\":\\\"END_OF_JOB\\\"},\\\"FeatureStoreOutput\\\":null,\\\"AppManaged\\\":false}],\\\"KmsKeyId\\\":null},\\\"ProcessingJobName\\\":\\\"preprocess-job-01\\\",\\\"ProcessingResources\\\":{\\\"ClusterConfig\\\":{\\\"InstanceCount\\\":1,\\\"InstanceType\\\":\\\"ml.m5.large\\\",\\\"VolumeSizeInGB\\\":30,\\\"VolumeKmsKeyId\\\":null}},\\\"StoppingCondition\\\":{\\\"MaxRuntimeInSeconds\\\":86400},\\\"AppSpecification\\\":{\\\"ImageUri\\\":\\\"683313688378.dkr.ecr.us-east-1.amazonaws.com/sagemaker-scikit-learn:0.20.0-cpu-py3\\\",\\\"ContainerEntrypoint\\\":[\\\"python3\\\",\\\"/opt/ml/processing/input/code/HelloBlazePreprocess.py\\\"],\\\"ContainerArguments\\\":null},\\\"Environment\\\":null,\\\"NetworkConfig\\\":null,\\\"RoleArn\\\":\\\"arn:aws:iam::852197184467:role/service-role/AmazonSageMaker-ExecutionRole-20240820T174475\\\",\\\"ExperimentConfig\\\":{\\\"ExperimentName\\\":null,\\\"TrialName\\\":null,\\\"TrialComponentDisplayName\\\":null,\\\"RunName\\\":null},\\\"ProcessingJobArn\\\":\\\"arn:aws:sagemaker:us-east-1:852197184467:processing-job/preprocess-job-01\\\",\\\"ProcessingJobStatus\\\":\\\"Completed\\\",\\\"ExitMessage\\\":null,\\\"FailureReason\\\":null,\\\"ProcessingEndTime\\\":1724952197000,\\\"ProcessingStartTime\\\":1724952108000,\\\"LastModifiedTime\\\":1724952212000,\\\"CreationTime\\\":1724952056000,\\\"LastModifiedBy\\\":null,\\\"CreatedBy\\\":null,\\\"MonitoringScheduleArn\\\":null,\\\"AutoMLJobArn\\\":null,\\\"TrainingJobArn\\\":null,\\\"Tags\\\":{\\\"AWS_STEP_FUNCTIONS_EXECUTION_ARN\\\":\\\"arn:aws:states:us-east-1:852197184467:execution:SageMakerProcessingWorkflow0001:cefee9ba-673d-46d5-83ca-6d867e2990c9\\\",\\\"MANAGED_BY_AWS\\\":\\\"STARTED_BY_STEP_FUNCTIONS\\\"}}\", \"inputDetails\": {\"truncated\": false}}}, {\"timestamp\": 1724952214.781, \"type\": \"TaskScheduled\", \"id\": 9, \"previousEventId\": 8, \"taskScheduledEventDetails\": {\"resourceType\": \"sagemaker\", \"resource\": \"createTrainingJob.sync\", \"region\": \"us-east-1\", \"parameters\": \"{\\\"AlgorithmSpecification\\\":{\\\"TrainingImage\\\":\\\"811284229777.dkr.ecr.us-east-1.amazonaws.com/blazingtext:1\\\",\\\"TrainingInputMode\\\":\\\"File\\\"},\\\"OutputDataConfig\\\":{\\\"S3OutputPath\\\":\\\"s3://sagemaker-us-east-1-852197184467/l3e3/workflow_output/\\\"},\\\"StoppingCondition\\\":{\\\"MaxRuntimeInSeconds\\\":360000},\\\"ResourceConfig\\\":{\\\"VolumeSizeInGB\\\":30,\\\"InstanceCount\\\":1,\\\"InstanceType\\\":\\\"ml.m5.large\\\"},\\\"RoleArn\\\":\\\"arn:aws:iam::852197184467:role/service-role/AmazonSageMaker-ExecutionRole-20240820T174475\\\",\\\"InputDataConfig\\\":[{\\\"DataSource\\\":{\\\"S3DataSource\\\":{\\\"S3DataType\\\":\\\"S3Prefix\\\",\\\"S3Uri\\\":\\\"s3://sagemaker-us-east-1-852197184467/hello_blaze_train_scikit\\\",\\\"S3DataDistributionType\\\":\\\"FullyReplicated\\\"}},\\\"ContentType\\\":\\\"text/plain\\\",\\\"ChannelName\\\":\\\"train\\\"},{\\\"DataSource\\\":{\\\"S3DataSource\\\":{\\\"S3DataType\\\":\\\"S3Prefix\\\",\\\"S3Uri\\\":\\\"s3://sagemaker-us-east-1-852197184467/hello_blaze_test_scikit\\\",\\\"S3DataDistributionType\\\":\\\"FullyReplicated\\\"}},\\\"ContentType\\\":\\\"text/plain\\\",\\\"ChannelName\\\":\\\"validation\\\"}],\\\"HyperParameters\\\":{\\\"mode\\\":\\\"supervised\\\"},\\\"TrainingJobName\\\":\\\"test-job-train-001\\\",\\\"DebugHookConfig\\\":{\\\"S3OutputPath\\\":\\\"s3://sagemaker-us-east-1-852197184467/l3e3/workflow_output/\\\"},\\\"Tags\\\":[{\\\"Key\\\":\\\"MANAGED_BY_AWS\\\",\\\"Value\\\":\\\"STARTED_BY_STEP_FUNCTIONS\\\"}]}\"}}, {\"timestamp\": 1724952214.871, \"type\": \"TaskStarted\", \"id\": 10, \"previousEventId\": 9, \"taskStartedEventDetails\": {\"resourceType\": \"sagemaker\", \"resource\": \"createTrainingJob.sync\"}}, {\"timestamp\": 1724952215.326, \"type\": \"TaskSubmitted\", \"id\": 11, \"previousEventId\": 10, \"taskSubmittedEventDetails\": {\"resourceType\": \"sagemaker\", \"resource\": \"createTrainingJob.sync\", \"output\": \"{\\\"SdkHttpMetadata\\\":{\\\"AllHttpHeaders\\\":{\\\"date\\\":[\\\"Thu, 29 Aug 2024 17:23:35 GMT\\\"],\\\"content-length\\\":[\\\"93\\\"],\\\"x-amzn-requestid\\\":[\\\"90536966-101f-4c45-978a-d972ab9174b9\\\"],\\\"content-type\\\":[\\\"application/x-amz-json-1.1\\\"]},\\\"HttpHeaders\\\":{\\\"content-length\\\":\\\"93\\\",\\\"content-type\\\":\\\"application/x-amz-json-1.1\\\",\\\"date\\\":\\\"Thu, 29 Aug 2024 17:23:35 GMT\\\",\\\"x-amzn-requestid\\\":\\\"90536966-101f-4c45-978a-d972ab9174b9\\\"},\\\"HttpStatusCode\\\":200},\\\"SdkResponseMetadata\\\":{\\\"RequestId\\\":\\\"90536966-101f-4c45-978a-d972ab9174b9\\\"},\\\"TrainingJobArn\\\":\\\"arn:aws:sagemaker:us-east-1:852197184467:training-job/test-job-train-001\\\"}\", \"outputDetails\": {\"truncated\": false}}}, {\"timestamp\": 1724952375.24, \"type\": \"TaskSucceeded\", \"id\": 12, \"previousEventId\": 11, \"taskSucceededEventDetails\": {\"resourceType\": \"sagemaker\", \"resource\": \"createTrainingJob.sync\", \"output\": \"{\\\"SdkResponseMetadata\\\":null,\\\"SdkHttpMetadata\\\":null,\\\"TrainingJobName\\\":\\\"test-job-train-001\\\",\\\"TrainingJobArn\\\":\\\"arn:aws:sagemaker:us-east-1:852197184467:training-job/test-job-train-001\\\",\\\"ProcessingJobArn\\\":null,\\\"TuningJobArn\\\":null,\\\"LabelingJobArn\\\":null,\\\"AutoMLJobArn\\\":null,\\\"ModelArtifacts\\\":{\\\"S3ModelArtifacts\\\":\\\"s3://sagemaker-us-east-1-852197184467/l3e3/workflow_output/test-job-train-001/output/model.tar.gz\\\"},\\\"TrainingJobOutput\\\":null,\\\"TrainingJobStatus\\\":\\\"Completed\\\",\\\"SecondaryStatus\\\":\\\"Completed\\\",\\\"FailureReason\\\":null,\\\"HyperParameters\\\":{\\\"mode\\\":\\\"supervised\\\"},\\\"AlgorithmSpecification\\\":{\\\"TrainingImage\\\":\\\"811284229777.dkr.ecr.us-east-1.amazonaws.com/blazingtext:1\\\",\\\"AlgorithmName\\\":null,\\\"TrainingInputMode\\\":\\\"FILE\\\",\\\"MetricDefinitions\\\":null,\\\"EnableSageMakerMetricsTimeSeries\\\":null,\\\"ContainerEntrypoint\\\":null,\\\"ContainerArguments\\\":null,\\\"TrainingImageConfig\\\":null},\\\"RoleArn\\\":\\\"arn:aws:iam::852197184467:role/service-role/AmazonSageMaker-ExecutionRole-20240820T174475\\\",\\\"InputDataConfig\\\":[{\\\"ChannelName\\\":\\\"train\\\",\\\"DataSource\\\":{\\\"S3DataSource\\\":{\\\"S3DataType\\\":\\\"S3_PREFIX\\\",\\\"S3Uri\\\":\\\"s3://sagemaker-us-east-1-852197184467/hello_blaze_train_scikit\\\",\\\"S3DataDistributionType\\\":\\\"FULLY_REPLICATED\\\",\\\"AttributeNames\\\":null,\\\"InstanceGroupNames\\\":null},\\\"FileSystemDataSource\\\":null},\\\"ContentType\\\":\\\"text/plain\\\",\\\"CompressionType\\\":\\\"NONE\\\",\\\"RecordWrapperType\\\":\\\"NONE\\\",\\\"InputMode\\\":null,\\\"ShuffleConfig\\\":null,\\\"EnableFFM\\\":null},{\\\"ChannelName\\\":\\\"validation\\\",\\\"DataSource\\\":{\\\"S3DataSource\\\":{\\\"S3DataType\\\":\\\"S3_PREFIX\\\",\\\"S3Uri\\\":\\\"s3://sagemaker-us-east-1-852197184467/hello_blaze_test_scikit\\\",\\\"S3DataDistributionType\\\":\\\"FULLY_REPLICATED\\\",\\\"AttributeNames\\\":null,\\\"InstanceGroupNames\\\":null},\\\"FileSystemDataSource\\\":null},\\\"ContentType\\\":\\\"text/plain\\\",\\\"CompressionType\\\":\\\"NONE\\\",\\\"RecordWrapperType\\\":\\\"NONE\\\",\\\"InputMode\\\":null,\\\"ShuffleConfig\\\":null,\\\"EnableFFM\\\":null}],\\\"OutputDataConfig\\\":{\\\"KmsKeyId\\\":null,\\\"S3OutputPath\\\":\\\"s3://sagemaker-us-east-1-852197184467/l3e3/workflow_output/\\\",\\\"CompressionType\\\":null,\\\"RemoveJobNameFromS3OutputPath\\\":null,\\\"DisableModelUpload\\\":null,\\\"Channels\\\":null},\\\"ResourceConfig\\\":{\\\"InstanceType\\\":\\\"ml.m5.large\\\",\\\"InstanceCount\\\":1,\\\"VolumeSizeInGB\\\":30,\\\"VolumeKmsKeyId\\\":null,\\\"KeepAlivePeriodInSeconds\\\":0,\\\"CapacityReservationIds\\\":null,\\\"InstanceGroups\\\":null,\\\"CapacitySchedulesConfig\\\":null},\\\"WarmPoolStatus\\\":null,\\\"VpcConfig\\\":null,\\\"StoppingCondition\\\":{\\\"MaxRuntimeInSeconds\\\":360000,\\\"MaxWaitTimeInSeconds\\\":null,\\\"MaxPendingTimeInSeconds\\\":null},\\\"CreationTime\\\":1724952215116,\\\"TrainingStartTime\\\":1724952253451,\\\"TrainingEndTime\\\":1724952372862,\\\"LastModifiedTime\\\":1724952373045,\\\"SecondaryStatusTransitions\\\":[{\\\"Status\\\":\\\"Starting\\\",\\\"StartTime\\\":1724952215116,\\\"EndTime\\\":1724952253451,\\\"StatusMessage\\\":\\\"Preparing the instances for training\\\"},{\\\"Status\\\":\\\"Downloading\\\",\\\"StartTime\\\":1724952253451,\\\"EndTime\\\":1724952309555,\\\"StatusMessage\\\":\\\"Downloading the training image\\\"},{\\\"Status\\\":\\\"Training\\\",\\\"StartTime\\\":1724952309555,\\\"EndTime\\\":1724952325083,\\\"StatusMessage\\\":\\\"Training image download completed. Training in progress.\\\"},{\\\"Status\\\":\\\"Uploading\\\",\\\"StartTime\\\":1724952325083,\\\"EndTime\\\":1724952372862,\\\"StatusMessage\\\":\\\"Uploading generated training model\\\"},{\\\"Status\\\":\\\"Completed\\\",\\\"StartTime\\\":1724952372862,\\\"EndTime\\\":1724952372862,\\\"StatusMessage\\\":\\\"Training job completed\\\"}],\\\"FinalMetricDataList\\\":null,\\\"EnableNetworkIsolation\\\":null,\\\"EnableInterContainerTrafficEncryption\\\":null,\\\"EnableManagedSpotTraining\\\":null,\\\"CheckpointConfig\\\":null,\\\"TrainingTimeInSeconds\\\":null,\\\"BillableTimeInSeconds\\\":null,\\\"DebugHookConfig\\\":{\\\"LocalPath\\\":null,\\\"S3OutputPath\\\":\\\"s3://sagemaker-us-east-1-852197184467/l3e3/workflow_output/\\\",\\\"HookParameters\\\":null,\\\"CollectionConfigurations\\\":null},\\\"ExperimentConfig\\\":null,\\\"DebugRuleConfigurations\\\":null,\\\"TensorBoardOutputConfig\\\":null,\\\"DebugRuleEvaluationStatuses\\\":null,\\\"UpstreamPlatformConfig\\\":null,\\\"ProfilerConfig\\\":null,\\\"ProfilerRuleConfigurations\\\":null,\\\"ProfilerRuleEvaluationStatuses\\\":null,\\\"ProfilingStatus\\\":null,\\\"Environment\\\":null,\\\"RetryStrategy\\\":null,\\\"LastModifiedBy\\\":null,\\\"CreatedBy\\\":null,\\\"DisableEFA\\\":null,\\\"ProcessingJobConfig\\\":null,\\\"ImageMetadata\\\":null,\\\"RemoteDebugConfig\\\":null,\\\"ResourceTags\\\":null,\\\"InfraCheckConfig\\\":null,\\\"Tags\\\":{\\\"AWS_STEP_FUNCTIONS_EXECUTION_ARN\\\":\\\"arn:aws:states:us-east-1:852197184467:execution:SageMakerProcessingWorkflow0001:cefee9ba-673d-46d5-83ca-6d867e2990c9\\\",\\\"MANAGED_BY_AWS\\\":\\\"STARTED_BY_STEP_FUNCTIONS\\\"}}\", \"outputDetails\": {\"truncated\": false}}}, {\"timestamp\": 1724952375.281, \"type\": \"TaskStateExited\", \"id\": 13, \"previousEventId\": 12, \"stateExitedEventDetails\": {\"name\": \"SageMaker Training Step\", \"output\": \"{\\\"SdkResponseMetadata\\\":null,\\\"SdkHttpMetadata\\\":null,\\\"TrainingJobName\\\":\\\"test-job-train-001\\\",\\\"TrainingJobArn\\\":\\\"arn:aws:sagemaker:us-east-1:852197184467:training-job/test-job-train-001\\\",\\\"ProcessingJobArn\\\":null,\\\"TuningJobArn\\\":null,\\\"LabelingJobArn\\\":null,\\\"AutoMLJobArn\\\":null,\\\"ModelArtifacts\\\":{\\\"S3ModelArtifacts\\\":\\\"s3://sagemaker-us-east-1-852197184467/l3e3/workflow_output/test-job-train-001/output/model.tar.gz\\\"},\\\"TrainingJobOutput\\\":null,\\\"TrainingJobStatus\\\":\\\"Completed\\\",\\\"SecondaryStatus\\\":\\\"Completed\\\",\\\"FailureReason\\\":null,\\\"HyperParameters\\\":{\\\"mode\\\":\\\"supervised\\\"},\\\"AlgorithmSpecification\\\":{\\\"TrainingImage\\\":\\\"811284229777.dkr.ecr.us-east-1.amazonaws.com/blazingtext:1\\\",\\\"AlgorithmName\\\":null,\\\"TrainingInputMode\\\":\\\"FILE\\\",\\\"MetricDefinitions\\\":null,\\\"EnableSageMakerMetricsTimeSeries\\\":null,\\\"ContainerEntrypoint\\\":null,\\\"ContainerArguments\\\":null,\\\"TrainingImageConfig\\\":null},\\\"RoleArn\\\":\\\"arn:aws:iam::852197184467:role/service-role/AmazonSageMaker-ExecutionRole-20240820T174475\\\",\\\"InputDataConfig\\\":[{\\\"ChannelName\\\":\\\"train\\\",\\\"DataSource\\\":{\\\"S3DataSource\\\":{\\\"S3DataType\\\":\\\"S3_PREFIX\\\",\\\"S3Uri\\\":\\\"s3://sagemaker-us-east-1-852197184467/hello_blaze_train_scikit\\\",\\\"S3DataDistributionType\\\":\\\"FULLY_REPLICATED\\\",\\\"AttributeNames\\\":null,\\\"InstanceGroupNames\\\":null},\\\"FileSystemDataSource\\\":null},\\\"ContentType\\\":\\\"text/plain\\\",\\\"CompressionType\\\":\\\"NONE\\\",\\\"RecordWrapperType\\\":\\\"NONE\\\",\\\"InputMode\\\":null,\\\"ShuffleConfig\\\":null,\\\"EnableFFM\\\":null},{\\\"ChannelName\\\":\\\"validation\\\",\\\"DataSource\\\":{\\\"S3DataSource\\\":{\\\"S3DataType\\\":\\\"S3_PREFIX\\\",\\\"S3Uri\\\":\\\"s3://sagemaker-us-east-1-852197184467/hello_blaze_test_scikit\\\",\\\"S3DataDistributionType\\\":\\\"FULLY_REPLICATED\\\",\\\"AttributeNames\\\":null,\\\"InstanceGroupNames\\\":null},\\\"FileSystemDataSource\\\":null},\\\"ContentType\\\":\\\"text/plain\\\",\\\"CompressionType\\\":\\\"NONE\\\",\\\"RecordWrapperType\\\":\\\"NONE\\\",\\\"InputMode\\\":null,\\\"ShuffleConfig\\\":null,\\\"EnableFFM\\\":null}],\\\"OutputDataConfig\\\":{\\\"KmsKeyId\\\":null,\\\"S3OutputPath\\\":\\\"s3://sagemaker-us-east-1-852197184467/l3e3/workflow_output/\\\",\\\"CompressionType\\\":null,\\\"RemoveJobNameFromS3OutputPath\\\":null,\\\"DisableModelUpload\\\":null,\\\"Channels\\\":null},\\\"ResourceConfig\\\":{\\\"InstanceType\\\":\\\"ml.m5.large\\\",\\\"InstanceCount\\\":1,\\\"VolumeSizeInGB\\\":30,\\\"VolumeKmsKeyId\\\":null,\\\"KeepAlivePeriodInSeconds\\\":0,\\\"CapacityReservationIds\\\":null,\\\"InstanceGroups\\\":null,\\\"CapacitySchedulesConfig\\\":null},\\\"WarmPoolStatus\\\":null,\\\"VpcConfig\\\":null,\\\"StoppingCondition\\\":{\\\"MaxRuntimeInSeconds\\\":360000,\\\"MaxWaitTimeInSeconds\\\":null,\\\"MaxPendingTimeInSeconds\\\":null},\\\"CreationTime\\\":1724952215116,\\\"TrainingStartTime\\\":1724952253451,\\\"TrainingEndTime\\\":1724952372862,\\\"LastModifiedTime\\\":1724952373045,\\\"SecondaryStatusTransitions\\\":[{\\\"Status\\\":\\\"Starting\\\",\\\"StartTime\\\":1724952215116,\\\"EndTime\\\":1724952253451,\\\"StatusMessage\\\":\\\"Preparing the instances for training\\\"},{\\\"Status\\\":\\\"Downloading\\\",\\\"StartTime\\\":1724952253451,\\\"EndTime\\\":1724952309555,\\\"StatusMessage\\\":\\\"Downloading the training image\\\"},{\\\"Status\\\":\\\"Training\\\",\\\"StartTime\\\":1724952309555,\\\"EndTime\\\":1724952325083,\\\"StatusMessage\\\":\\\"Training image download completed. Training in progress.\\\"},{\\\"Status\\\":\\\"Uploading\\\",\\\"StartTime\\\":1724952325083,\\\"EndTime\\\":1724952372862,\\\"StatusMessage\\\":\\\"Uploading generated training model\\\"},{\\\"Status\\\":\\\"Completed\\\",\\\"StartTime\\\":1724952372862,\\\"EndTime\\\":1724952372862,\\\"StatusMessage\\\":\\\"Training job completed\\\"}],\\\"FinalMetricDataList\\\":null,\\\"EnableNetworkIsolation\\\":null,\\\"EnableInterContainerTrafficEncryption\\\":null,\\\"EnableManagedSpotTraining\\\":null,\\\"CheckpointConfig\\\":null,\\\"TrainingTimeInSeconds\\\":null,\\\"BillableTimeInSeconds\\\":null,\\\"DebugHookConfig\\\":{\\\"LocalPath\\\":null,\\\"S3OutputPath\\\":\\\"s3://sagemaker-us-east-1-852197184467/l3e3/workflow_output/\\\",\\\"HookParameters\\\":null,\\\"CollectionConfigurations\\\":null},\\\"ExperimentConfig\\\":null,\\\"DebugRuleConfigurations\\\":null,\\\"TensorBoardOutputConfig\\\":null,\\\"DebugRuleEvaluationStatuses\\\":null,\\\"UpstreamPlatformConfig\\\":null,\\\"ProfilerConfig\\\":null,\\\"ProfilerRuleConfigurations\\\":null,\\\"ProfilerRuleEvaluationStatuses\\\":null,\\\"ProfilingStatus\\\":null,\\\"Environment\\\":null,\\\"RetryStrategy\\\":null,\\\"LastModifiedBy\\\":null,\\\"CreatedBy\\\":null,\\\"DisableEFA\\\":null,\\\"ProcessingJobConfig\\\":null,\\\"ImageMetadata\\\":null,\\\"RemoteDebugConfig\\\":null,\\\"ResourceTags\\\":null,\\\"InfraCheckConfig\\\":null,\\\"Tags\\\":{\\\"AWS_STEP_FUNCTIONS_EXECUTION_ARN\\\":\\\"arn:aws:states:us-east-1:852197184467:execution:SageMakerProcessingWorkflow0001:cefee9ba-673d-46d5-83ca-6d867e2990c9\\\",\\\"MANAGED_BY_AWS\\\":\\\"STARTED_BY_STEP_FUNCTIONS\\\"}}\", \"outputDetails\": {\"truncated\": false}}}, {\"timestamp\": 1724952375.329, \"type\": \"ExecutionSucceeded\", \"id\": 14, \"previousEventId\": 13, \"executionSucceededEventDetails\": {\"output\": \"{\\\"SdkResponseMetadata\\\":null,\\\"SdkHttpMetadata\\\":null,\\\"TrainingJobName\\\":\\\"test-job-train-001\\\",\\\"TrainingJobArn\\\":\\\"arn:aws:sagemaker:us-east-1:852197184467:training-job/test-job-train-001\\\",\\\"ProcessingJobArn\\\":null,\\\"TuningJobArn\\\":null,\\\"LabelingJobArn\\\":null,\\\"AutoMLJobArn\\\":null,\\\"ModelArtifacts\\\":{\\\"S3ModelArtifacts\\\":\\\"s3://sagemaker-us-east-1-852197184467/l3e3/workflow_output/test-job-train-001/output/model.tar.gz\\\"},\\\"TrainingJobOutput\\\":null,\\\"TrainingJobStatus\\\":\\\"Completed\\\",\\\"SecondaryStatus\\\":\\\"Completed\\\",\\\"FailureReason\\\":null,\\\"HyperParameters\\\":{\\\"mode\\\":\\\"supervised\\\"},\\\"AlgorithmSpecification\\\":{\\\"TrainingImage\\\":\\\"811284229777.dkr.ecr.us-east-1.amazonaws.com/blazingtext:1\\\",\\\"AlgorithmName\\\":null,\\\"TrainingInputMode\\\":\\\"FILE\\\",\\\"MetricDefinitions\\\":null,\\\"EnableSageMakerMetricsTimeSeries\\\":null,\\\"ContainerEntrypoint\\\":null,\\\"ContainerArguments\\\":null,\\\"TrainingImageConfig\\\":null},\\\"RoleArn\\\":\\\"arn:aws:iam::852197184467:role/service-role/AmazonSageMaker-ExecutionRole-20240820T174475\\\",\\\"InputDataConfig\\\":[{\\\"ChannelName\\\":\\\"train\\\",\\\"DataSource\\\":{\\\"S3DataSource\\\":{\\\"S3DataType\\\":\\\"S3_PREFIX\\\",\\\"S3Uri\\\":\\\"s3://sagemaker-us-east-1-852197184467/hello_blaze_train_scikit\\\",\\\"S3DataDistributionType\\\":\\\"FULLY_REPLICATED\\\",\\\"AttributeNames\\\":null,\\\"InstanceGroupNames\\\":null},\\\"FileSystemDataSource\\\":null},\\\"ContentType\\\":\\\"text/plain\\\",\\\"CompressionType\\\":\\\"NONE\\\",\\\"RecordWrapperType\\\":\\\"NONE\\\",\\\"InputMode\\\":null,\\\"ShuffleConfig\\\":null,\\\"EnableFFM\\\":null},{\\\"ChannelName\\\":\\\"validation\\\",\\\"DataSource\\\":{\\\"S3DataSource\\\":{\\\"S3DataType\\\":\\\"S3_PREFIX\\\",\\\"S3Uri\\\":\\\"s3://sagemaker-us-east-1-852197184467/hello_blaze_test_scikit\\\",\\\"S3DataDistributionType\\\":\\\"FULLY_REPLICATED\\\",\\\"AttributeNames\\\":null,\\\"InstanceGroupNames\\\":null},\\\"FileSystemDataSource\\\":null},\\\"ContentType\\\":\\\"text/plain\\\",\\\"CompressionType\\\":\\\"NONE\\\",\\\"RecordWrapperType\\\":\\\"NONE\\\",\\\"InputMode\\\":null,\\\"ShuffleConfig\\\":null,\\\"EnableFFM\\\":null}],\\\"OutputDataConfig\\\":{\\\"KmsKeyId\\\":null,\\\"S3OutputPath\\\":\\\"s3://sagemaker-us-east-1-852197184467/l3e3/workflow_output/\\\",\\\"CompressionType\\\":null,\\\"RemoveJobNameFromS3OutputPath\\\":null,\\\"DisableModelUpload\\\":null,\\\"Channels\\\":null},\\\"ResourceConfig\\\":{\\\"InstanceType\\\":\\\"ml.m5.large\\\",\\\"InstanceCount\\\":1,\\\"VolumeSizeInGB\\\":30,\\\"VolumeKmsKeyId\\\":null,\\\"KeepAlivePeriodInSeconds\\\":0,\\\"CapacityReservationIds\\\":null,\\\"InstanceGroups\\\":null,\\\"CapacitySchedulesConfig\\\":null},\\\"WarmPoolStatus\\\":null,\\\"VpcConfig\\\":null,\\\"StoppingCondition\\\":{\\\"MaxRuntimeInSeconds\\\":360000,\\\"MaxWaitTimeInSeconds\\\":null,\\\"MaxPendingTimeInSeconds\\\":null},\\\"CreationTime\\\":1724952215116,\\\"TrainingStartTime\\\":1724952253451,\\\"TrainingEndTime\\\":1724952372862,\\\"LastModifiedTime\\\":1724952373045,\\\"SecondaryStatusTransitions\\\":[{\\\"Status\\\":\\\"Starting\\\",\\\"StartTime\\\":1724952215116,\\\"EndTime\\\":1724952253451,\\\"StatusMessage\\\":\\\"Preparing the instances for training\\\"},{\\\"Status\\\":\\\"Downloading\\\",\\\"StartTime\\\":1724952253451,\\\"EndTime\\\":1724952309555,\\\"StatusMessage\\\":\\\"Downloading the training image\\\"},{\\\"Status\\\":\\\"Training\\\",\\\"StartTime\\\":1724952309555,\\\"EndTime\\\":1724952325083,\\\"StatusMessage\\\":\\\"Training image download completed. Training in progress.\\\"},{\\\"Status\\\":\\\"Uploading\\\",\\\"StartTime\\\":1724952325083,\\\"EndTime\\\":1724952372862,\\\"StatusMessage\\\":\\\"Uploading generated training model\\\"},{\\\"Status\\\":\\\"Completed\\\",\\\"StartTime\\\":1724952372862,\\\"EndTime\\\":1724952372862,\\\"StatusMessage\\\":\\\"Training job completed\\\"}],\\\"FinalMetricDataList\\\":null,\\\"EnableNetworkIsolation\\\":null,\\\"EnableInterContainerTrafficEncryption\\\":null,\\\"EnableManagedSpotTraining\\\":null,\\\"CheckpointConfig\\\":null,\\\"TrainingTimeInSeconds\\\":null,\\\"BillableTimeInSeconds\\\":null,\\\"DebugHookConfig\\\":{\\\"LocalPath\\\":null,\\\"S3OutputPath\\\":\\\"s3://sagemaker-us-east-1-852197184467/l3e3/workflow_output/\\\",\\\"HookParameters\\\":null,\\\"CollectionConfigurations\\\":null},\\\"ExperimentConfig\\\":null,\\\"DebugRuleConfigurations\\\":null,\\\"TensorBoardOutputConfig\\\":null,\\\"DebugRuleEvaluationStatuses\\\":null,\\\"UpstreamPlatformConfig\\\":null,\\\"ProfilerConfig\\\":null,\\\"ProfilerRuleConfigurations\\\":null,\\\"ProfilerRuleEvaluationStatuses\\\":null,\\\"ProfilingStatus\\\":null,\\\"Environment\\\":null,\\\"RetryStrategy\\\":null,\\\"LastModifiedBy\\\":null,\\\"CreatedBy\\\":null,\\\"DisableEFA\\\":null,\\\"ProcessingJobConfig\\\":null,\\\"ImageMetadata\\\":null,\\\"RemoteDebugConfig\\\":null,\\\"ResourceTags\\\":null,\\\"InfraCheckConfig\\\":null,\\\"Tags\\\":{\\\"AWS_STEP_FUNCTIONS_EXECUTION_ARN\\\":\\\"arn:aws:states:us-east-1:852197184467:execution:SageMakerProcessingWorkflow0001:cefee9ba-673d-46d5-83ca-6d867e2990c9\\\",\\\"MANAGED_BY_AWS\\\":\\\"STARTED_BY_STEP_FUNCTIONS\\\"}}\", \"outputDetails\": {\"truncated\": false}}}] };\n",
       "\n",
       "    var graph = new sfn.StateMachineExecutionGraph(definition, events, elementId, options);\n",
       "    graph.render();\n",
       "});\n",
       "\n",
       "</script>\n"
      ],
      "text/plain": [
       "<IPython.core.display.HTML object>"
      ]
     },
     "execution_count": 5,
     "metadata": {},
     "output_type": "execute_result"
    }
   ],
   "source": [
    "execution.render_progress()"
   ]
  },
  {
   "cell_type": "code",
   "execution_count": null,
   "id": "f095838f-ab71-4c33-be31-c2b7a46be855",
   "metadata": {},
   "outputs": [],
   "source": []
  }
 ],
 "metadata": {
  "kernelspec": {
   "display_name": "Python 3 (ipykernel)",
   "language": "python",
   "name": "python3"
  },
  "language_info": {
   "codemirror_mode": {
    "name": "ipython",
    "version": 3
   },
   "file_extension": ".py",
   "mimetype": "text/x-python",
   "name": "python",
   "nbconvert_exporter": "python",
   "pygments_lexer": "ipython3",
   "version": "3.10.14"
  }
 },
 "nbformat": 4,
 "nbformat_minor": 5
}
